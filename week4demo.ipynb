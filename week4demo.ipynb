{
 "cells": [
  {
   "cell_type": "markdown",
   "metadata": {},
   "source": [
    "<center>\n",
    "    <img src=\"https://cf-courses-data.s3.us.cloud-object-storage.appdomain.cloud/IBMDeveloperSkillsNetwork-DS0105EN-SkillsNetwork/labs/Module2/images/SN_web_lightmode.png\" width=\"300\" alt=\"cognitiveclass.ai logo\">\n",
    "</center>\n"
   ]
  },
  {
   "cell_type": "markdown",
   "metadata": {},
   "source": [
    "#### Add your code below following the instructions given in the course\n"
   ]
  },
  {
   "cell_type": "markdown",
   "metadata": {},
   "source": [
    "# My Jupyter Notebook on IBM Watson Studio"
   ]
  },
  {
   "cell_type": "markdown",
   "metadata": {},
   "source": [
    "**Joshua Thompson**\n",
    "\n",
    "Environmental Engineer"
   ]
  },
  {
   "cell_type": "markdown",
   "metadata": {},
   "source": [
    "*I am interested in data science because I love how data can be used to support evidence-based decision making.*"
   ]
  },
  {
   "cell_type": "markdown",
   "metadata": {},
   "source": [
    "### The code below is an application of the Manning's Equation to determine discharge in cubic feet per second. The Manning's Equation is first defined as a function that requires inputs such as the cross-sectional area, A, Manning's N, n, the hydraulic radius, R, and the channel slope, S. Below the function is an example of applying it, with the result printed as a sentence by concatenating strings and numbers. "
   ]
  },
  {
   "cell_type": "code",
   "execution_count": 9,
   "metadata": {},
   "outputs": [
    {
     "name": "stdout",
     "output_type": "stream",
     "text": [
      "The estimated discharge of this section is 929.4 cubic feet per second.\n"
     ]
    }
   ],
   "source": [
    "# function to use manning's equation and return discharge in cubic feet per second\n",
    "# function inputs include:\n",
    "#       A, the cross-sectional area of flow in square feet\n",
    "#       n, manning's n, otherwise known as the coefficient of roughness (unitless)\n",
    "#       R, the hydraulic radius in feet\n",
    "#       S, the slope of the section in feet/feet\n",
    "\n",
    "def ManningsEquation(A,n,R,S): \n",
    "    Q = A*(1.486/n)*(R**(2/3))*(S**(1/2))\n",
    "    return(Q)\n",
    "\n",
    "# example of applying the function\n",
    "\n",
    "discharge_cuft_sec = ManningsEquation(A= 72, n=0.017, R = 6, S = 0.002)\n",
    "\n",
    "print(\"The estimated discharge of this section is \" + str(round(discharge_cuft_sec,1)) + \" cubic feet per second.\")"
   ]
  },
  {
   "cell_type": "markdown",
   "metadata": {},
   "source": [
    "# Inputs for Manning's Equation\n",
    "\n",
    "____________________________________\n",
    "\n",
    "* A, the cross-sectional area of flow in square feet\n",
    "* n, Manning's n, otherwise known as the coefficient of roughness (unitless)\n",
    "* R, the hydraulic radius in feet\n",
    "* S, the slope of the section in feet/feet\n",
    "\n",
    "### The equation is implemented using the following function: \n",
    "\n",
    "```\n",
    "def ManningsEquation(A,n,R,S): \n",
    "    Q = A*(1.486/n)*(R**(2/3))*(S**(1/2))\n",
    "    return(Q)\n",
    "```\n",
    "\n",
    "### Here is an example diagram in metric units: \n",
    "\n",
    "![Alt](https://download.comet.ucar.edu/memory-stick/hydro/basic_int/routing/media/graphics/manning_example1_int.jpg)\n",
    "\n",
    "\n",
    "~~Manning's roughness is often referred to by the letter P~~. \n",
    "Whoops! Manning's roughness is often referred to by the letter N.\n",
    "\n",
    "____________________________________"
   ]
  }
 ],
 "metadata": {
  "kernelspec": {
   "display_name": "Python",
   "language": "python",
   "name": "conda-env-python-py"
  },
  "language_info": {
   "codemirror_mode": {
    "name": "ipython",
    "version": 3
   },
   "file_extension": ".py",
   "mimetype": "text/x-python",
   "name": "python",
   "nbconvert_exporter": "python",
   "pygments_lexer": "ipython3",
   "version": "3.7.12"
  }
 },
 "nbformat": 4,
 "nbformat_minor": 4
}
